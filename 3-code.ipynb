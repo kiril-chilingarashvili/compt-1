{
 "cells": [
  {
   "cell_type": "code",
   "execution_count": 13,
   "id": "71e42802",
   "metadata": {},
   "outputs": [],
   "source": [
    "x = (1, 2, (3, 'John', 4), 'Hi')\n"
   ]
  },
  {
   "cell_type": "code",
   "execution_count": 18,
   "id": "1de376a7",
   "metadata": {},
   "outputs": [
    {
     "name": "stdout",
     "output_type": "stream",
     "text": [
      "('I', 'a', 'tuple')\n"
     ]
    }
   ],
   "source": [
    "def oddTuples(aTup):\n",
    "    '''\n",
    "    aTup: a tuple\n",
    "    \n",
    "    returns: tuple, every other element of aTup. \n",
    "    '''\n",
    "    # Your Code Here\n",
    "    result = ()\n",
    "    ind = 0\n",
    "    for i in aTup:\n",
    "        if ind % 2 == 0:\n",
    "            result = result + (i,)\n",
    "        ind = ind + 1\n",
    "    return result\n",
    "print(oddTuples(('I', 'am', 'a', 'test', 'tuple')))"
   ]
  },
  {
   "cell_type": "code",
   "execution_count": 26,
   "id": "6edc74e5",
   "metadata": {},
   "outputs": [
    {
     "data": {
      "text/plain": [
       "[8, 2, [3, 'John', 4], 'Hi']"
      ]
     },
     "execution_count": 26,
     "metadata": {},
     "output_type": "execute_result"
    }
   ],
   "source": [
    "x = [1, 2, [3, 'John', 4], 'Hi'] \n",
    "x[0] = 8\n",
    "x"
   ]
  },
  {
   "cell_type": "code",
   "execution_count": 54,
   "id": "bb4f07f7",
   "metadata": {},
   "outputs": [
    {
     "data": {
      "text/plain": [
       "[4, 3, 6, 1, 4, 4, 1, 0, 100]"
      ]
     },
     "execution_count": 54,
     "metadata": {},
     "output_type": "execute_result"
    }
   ],
   "source": [
    "listA = [1, 4, 3, 0]\n",
    "listB = ['x', 'z', 't', 'q'] \n",
    "listA.sort()\n",
    "listA\n",
    "listA.insert(0, 100)\n",
    "listA.remove(3)\n",
    "listA.append(7)\n",
    "listA\n",
    "listA + listB\n",
    "listB.sort()\n",
    "listB.pop()\n",
    "listA.extend([4, 1, 6, 3, 4])\n",
    "listA.count(4)\n",
    "listA.index(1)\n",
    "listA.pop(4)\n",
    "listA.reverse()\n",
    "listA"
   ]
  },
  {
   "cell_type": "code",
   "execution_count": 64,
   "id": "a0c59b63",
   "metadata": {},
   "outputs": [
    {
     "data": {
      "text/plain": [
       "[0, 1, 'hello', 3, 4, 5]"
      ]
     },
     "execution_count": 64,
     "metadata": {},
     "output_type": "execute_result"
    }
   ],
   "source": [
    "aList = [0, 1, 2, 3, 4, 5]\n",
    "bList = aList\n",
    "aList[2] = 'hello'\n",
    "aList == bList\n",
    "aList is bList\n",
    "aList\n",
    "bList\n",
    "cList = [6, 5, 4, 3, 2]\n",
    "dList = []\n",
    "for num in cList:\n",
    "    dList.append(num)\n",
    "cList == dList\n",
    "cList is dList\n",
    "cList[2] = 20\n",
    "cList\n",
    "dList"
   ]
  },
  {
   "cell_type": "code",
   "execution_count": 65,
   "id": "0fdd7972",
   "metadata": {},
   "outputs": [],
   "source": [
    "def applyToEach(L, f):\n",
    "    for i in range(len(L)):\n",
    "        L[i] = f(L[i])\n",
    "        \n",
    "testList = [1, -4, 8, -9]\n",
    "\n",
    " print(testList)"
   ]
  },
  {
   "cell_type": "code",
   "execution_count": 69,
   "id": "f51c7b77",
   "metadata": {},
   "outputs": [
    {
     "data": {
      "text/plain": [
       "[4.0, 9.0, 1.5, 3.0]"
      ]
     },
     "execution_count": 69,
     "metadata": {},
     "output_type": "execute_result"
    }
   ],
   "source": [
    "def applyEachTo(L, x):\n",
    "    result = []\n",
    "    for i in range(len(L)):\n",
    "        result.append(L[i](x))\n",
    "    return result\n",
    "\n",
    "def square(a):\n",
    "    return a*a\n",
    "\n",
    "def halve(a):\n",
    "    return a/2\n",
    "\n",
    "def inc(a):\n",
    "    return a+1\n",
    "applyEachTo([inc, square, halve, abs], -3)\n",
    "applyEachTo([inc, square, halve, abs], 3.0)\n",
    "# applyEachTo([inc, max, int], -3)"
   ]
  },
  {
   "cell_type": "code",
   "execution_count": 83,
   "id": "f20636c6",
   "metadata": {},
   "outputs": [
    {
     "data": {
      "text/plain": [
       "dict_values(['anteater', 'coati', 'donkey'])"
      ]
     },
     "execution_count": 83,
     "metadata": {},
     "output_type": "execute_result"
    }
   ],
   "source": [
    "animals = {'a': 'aardvark', 'b': 'baboon', 'c': 'coati'}\n",
    "\n",
    "animals['d'] = 'donkey'\n",
    "animals\n",
    "animals['c']\n",
    "len(animals)\n",
    "animals['a'] = 'anteater'\n",
    "animals['a']\n",
    "len(animals['a'])\n",
    "'baboon' in animals\n",
    "'donkey' in animals.values()\n",
    "'b' in animals\n",
    "animals.keys()\n",
    "del animals['b']\n",
    "len(animals)\n",
    "animals.values()"
   ]
  },
  {
   "cell_type": "code",
   "execution_count": 99,
   "id": "a6946f20",
   "metadata": {},
   "outputs": [
    {
     "name": "stdout",
     "output_type": "stream",
     "text": [
      "6\n"
     ]
    }
   ],
   "source": [
    "animals = { 'a': ['aardvark'], 'b': ['baboon'], 'c': ['coati']}\n",
    "\n",
    "animals['d'] = ['donkey']\n",
    "animals['d'].append('dog')\n",
    "animals['d'].append('dingo')\n",
    "def how_many(aDict):\n",
    "    '''\n",
    "    aDict: A dictionary, where all the values are lists.\n",
    "\n",
    "    returns: int, how many values are in the dictionary.\n",
    "    '''\n",
    "    # Your Code Here\n",
    "    result = 0\n",
    "    # print (aDict)\n",
    "    for i in aDict.keys():\n",
    "        if isinstance(aDict[i], dict):\n",
    "            result = result + how_many(aDict[i])\n",
    "        elif isinstance(aDict[i], list):\n",
    "            result = result + len(aDict[i])\n",
    "        else:\n",
    "            result = result + 1\n",
    "    return result\n",
    "print(how_many(animals))"
   ]
  },
  {
   "cell_type": "code",
   "execution_count": 106,
   "id": "6c24e934",
   "metadata": {},
   "outputs": [
    {
     "data": {
      "text/plain": [
       "'d'"
      ]
     },
     "execution_count": 106,
     "metadata": {},
     "output_type": "execute_result"
    }
   ],
   "source": [
    "animals = { 'a': ['aardvark'], 'b': ['baboon'], 'c': ['coati']}\n",
    "\n",
    "animals['d'] = ['donkey']\n",
    "animals['d'].append('dog')\n",
    "animals['d'].append('dingo')\n",
    "def biggest(aDict):\n",
    "    '''\n",
    "    aDict: A dictionary, where all the values are lists.\n",
    "\n",
    "    returns: The key with the largest number of values associated with it\n",
    "    '''\n",
    "    # Your Code Here\n",
    "    result = None\n",
    "    maxv = 0\n",
    "    for i in aDict.keys():\n",
    "        if isinstance(aDict[i], list):\n",
    "            if len(aDict[i]) > maxv:\n",
    "                maxv = len(aDict[i])\n",
    "                result = i\n",
    "            elif 1 > maxv:\n",
    "                    maxv = 1\n",
    "                    result = i\n",
    "        elif 1 > maxv:\n",
    "                maxv = 1\n",
    "                result = i\n",
    "    return result\n",
    "biggest(animals)"
   ]
  },
  {
   "cell_type": "code",
   "execution_count": 107,
   "id": "128051c2",
   "metadata": {},
   "outputs": [
    {
     "name": "stdout",
     "output_type": "stream",
     "text": [
      "False\n"
     ]
    }
   ],
   "source": [
    "secretWord = 'apple' \n",
    "lettersGuessed = ['e', 'i', 'k', 'p', 'r', 's']\n",
    "def isWordGuessed(secretWord, lettersGuessed):\n",
    "    '''\n",
    "    secretWord: string, the word the user is guessing\n",
    "    lettersGuessed: list, what letters have been guessed so far\n",
    "    returns: boolean, True if all the letters of secretWord are in lettersGuessed;\n",
    "      False otherwise\n",
    "    '''\n",
    "    # FILL IN YOUR CODE HERE...\n",
    "    for l in secretWord:\n",
    "        if l not in lettersGuessed:\n",
    "            return False\n",
    "    return True\n",
    "print(isWordGuessed(secretWord, lettersGuessed))"
   ]
  },
  {
   "cell_type": "code",
   "execution_count": 108,
   "id": "424c9cd4",
   "metadata": {},
   "outputs": [
    {
     "name": "stdout",
     "output_type": "stream",
     "text": [
      "_pp_e\n"
     ]
    }
   ],
   "source": [
    "secretWord = 'apple' \n",
    "lettersGuessed = ['e', 'i', 'k', 'p', 'r', 's']\n",
    "def getGuessedWord(secretWord, lettersGuessed):\n",
    "    '''\n",
    "    secretWord: string, the word the user is guessing\n",
    "    lettersGuessed: list, what letters have been guessed so far\n",
    "    returns: string, comprised of letters and underscores that represents\n",
    "      what letters in secretWord have been guessed so far.\n",
    "    '''\n",
    "    # FILL IN YOUR CODE HERE...\n",
    "    result = ''\n",
    "    for l in secretWord:\n",
    "        if l in lettersGuessed:\n",
    "            result = result + l\n",
    "        else:\n",
    "            result = result + '_'\n",
    "    return result\n",
    "print(getGuessedWord(secretWord, lettersGuessed))"
   ]
  },
  {
   "cell_type": "code",
   "execution_count": 109,
   "id": "e83d8784",
   "metadata": {},
   "outputs": [
    {
     "name": "stdout",
     "output_type": "stream",
     "text": [
      "abcdfghjlmnoqtuvwxyz\n"
     ]
    }
   ],
   "source": [
    "lettersGuessed = ['e', 'i', 'k', 'p', 'r', 's']\n",
    "def getAvailableLetters(lettersGuessed):\n",
    "    '''\n",
    "    lettersGuessed: list, what letters have been guessed so far\n",
    "    returns: string, comprised of letters that represents what letters have not\n",
    "      yet been guessed.\n",
    "    '''\n",
    "    # FILL IN YOUR CODE HERE...\n",
    "    a = 'abcdefghijklmnopqrstuvwxyz'\n",
    "    result = ''\n",
    "    for l in a:\n",
    "        if l not in lettersGuessed:\n",
    "            result = result + l\n",
    "    return result\n",
    "print(getAvailableLetters(lettersGuessed))"
   ]
  },
  {
   "cell_type": "code",
   "execution_count": 112,
   "id": "40896394",
   "metadata": {},
   "outputs": [],
   "source": [
    "def hangman(secretWord):\n",
    "    '''\n",
    "    secretWord: string, the secret word to guess.\n",
    "\n",
    "    Starts up an interactive game of Hangman.\n",
    "\n",
    "    * At the start of the game, let the user know how many \n",
    "      letters the secretWord contains.\n",
    "    * Ask the user to supply one guess (i.e. letter) per round.\n",
    "\n",
    "    * The user should receive feedback immediately after each guess \n",
    "      about whether their guess appears in the computers word.\n",
    "\n",
    "    * After each round, you should also display to the user the \n",
    "      partially guessed word so far, as well as letters that the \n",
    "      user has not yet guessed.\n",
    "\n",
    "    Follows the other limitations detailed in the problem write-up.\n",
    "    '''\n",
    "    # FILL IN YOUR CODE HERE...\n",
    "    print('Welcome to the game Hangman!')\n",
    "    print('I am thinking of a word that is ', len(secretWord), ' letters long.')\n",
    "    guesses = 8\n",
    "    lettersGuessed = []\n",
    "    while guesses > 0:\n",
    "        print('-------------')\n",
    "        print('You have ', guesses,' guesses left.')\n",
    "        print('Available letters: ', getAvailableLetters(lettersGuessed))\n",
    "        guess = input('Please guess a letter:')[0]\n",
    "        if guess not in lettersGuessed:\n",
    "            lettersGuessed.append(guess)\n",
    "            if guess in secretWord:\n",
    "                print('Good guess: ', getGuessedWord(secretWord, lettersGuessed))\n",
    "            else:\n",
    "                guesses = guesses - 1\n",
    "                print('Oops! That letter is not in my word: ', getGuessedWord(secretWord, lettersGuessed))\n",
    "            if isWordGuessed(secretWord, lettersGuessed):\n",
    "                print('------------')\n",
    "                print('Congratulations, you won!')\n",
    "                return None\n",
    "        else:\n",
    "            print('Oops! You\\'ve already guessed that letter: ', getGuessedWord(secretWord, lettersGuessed))\n",
    "    print('------------')\n",
    "    print('Sorry, you ran out of guesses. The word was ', secretWord, '.')\n"
   ]
  },
  {
   "cell_type": "code",
   "execution_count": 113,
   "id": "84ffe816",
   "metadata": {},
   "outputs": [
    {
     "name": "stdout",
     "output_type": "stream",
     "text": [
      "Oops! You've already guessed that letter: \n"
     ]
    }
   ],
   "source": []
  },
  {
   "cell_type": "markdown",
   "id": "b571e56b",
   "metadata": {},
   "source": []
  }
 ],
 "metadata": {
  "kernelspec": {
   "display_name": "Python 3",
   "language": "python",
   "name": "python3"
  },
  "language_info": {
   "codemirror_mode": {
    "name": "ipython",
    "version": 3
   },
   "file_extension": ".py",
   "mimetype": "text/x-python",
   "name": "python",
   "nbconvert_exporter": "python",
   "pygments_lexer": "ipython3",
   "version": "3.6.15"
  }
 },
 "nbformat": 4,
 "nbformat_minor": 5
}
