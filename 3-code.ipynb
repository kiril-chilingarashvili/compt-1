{
 "cells": [
  {
   "cell_type": "code",
   "execution_count": 13,
   "id": "4e85395b",
   "metadata": {},
   "outputs": [],
   "source": [
    "x = (1, 2, (3, 'John', 4), 'Hi')\n"
   ]
  },
  {
   "cell_type": "code",
   "execution_count": 18,
   "id": "30800d85",
   "metadata": {},
   "outputs": [
    {
     "name": "stdout",
     "output_type": "stream",
     "text": [
      "('I', 'a', 'tuple')\n"
     ]
    }
   ],
   "source": [
    "def oddTuples(aTup):\n",
    "    '''\n",
    "    aTup: a tuple\n",
    "    \n",
    "    returns: tuple, every other element of aTup. \n",
    "    '''\n",
    "    # Your Code Here\n",
    "    result = ()\n",
    "    ind = 0\n",
    "    for i in aTup:\n",
    "        if ind % 2 == 0:\n",
    "            result = result + (i,)\n",
    "        ind = ind + 1\n",
    "    return result\n",
    "print(oddTuples(('I', 'am', 'a', 'test', 'tuple')))"
   ]
  },
  {
   "cell_type": "code",
   "execution_count": 26,
   "id": "1b924535",
   "metadata": {},
   "outputs": [
    {
     "data": {
      "text/plain": [
       "[8, 2, [3, 'John', 4], 'Hi']"
      ]
     },
     "execution_count": 26,
     "metadata": {},
     "output_type": "execute_result"
    }
   ],
   "source": [
    "x = [1, 2, [3, 'John', 4], 'Hi'] \n",
    "x[0] = 8\n",
    "x"
   ]
  },
  {
   "cell_type": "code",
   "execution_count": 54,
   "id": "53064550",
   "metadata": {},
   "outputs": [
    {
     "data": {
      "text/plain": [
       "[4, 3, 6, 1, 4, 4, 1, 0, 100]"
      ]
     },
     "execution_count": 54,
     "metadata": {},
     "output_type": "execute_result"
    }
   ],
   "source": [
    "listA = [1, 4, 3, 0]\n",
    "listB = ['x', 'z', 't', 'q'] \n",
    "listA.sort()\n",
    "listA\n",
    "listA.insert(0, 100)\n",
    "listA.remove(3)\n",
    "listA.append(7)\n",
    "listA\n",
    "listA + listB\n",
    "listB.sort()\n",
    "listB.pop()\n",
    "listA.extend([4, 1, 6, 3, 4])\n",
    "listA.count(4)\n",
    "listA.index(1)\n",
    "listA.pop(4)\n",
    "listA.reverse()\n",
    "listA"
   ]
  },
  {
   "cell_type": "code",
   "execution_count": 64,
   "id": "29da568b",
   "metadata": {},
   "outputs": [
    {
     "data": {
      "text/plain": [
       "[0, 1, 'hello', 3, 4, 5]"
      ]
     },
     "execution_count": 64,
     "metadata": {},
     "output_type": "execute_result"
    }
   ],
   "source": [
    "aList = [0, 1, 2, 3, 4, 5]\n",
    "bList = aList\n",
    "aList[2] = 'hello'\n",
    "aList == bList\n",
    "aList is bList\n",
    "aList\n",
    "bList\n",
    "cList = [6, 5, 4, 3, 2]\n",
    "dList = []\n",
    "for num in cList:\n",
    "    dList.append(num)\n",
    "cList == dList\n",
    "cList is dList\n",
    "cList[2] = 20\n",
    "cList\n",
    "dList"
   ]
  },
  {
   "cell_type": "code",
   "execution_count": 65,
   "id": "17285911",
   "metadata": {},
   "outputs": [],
   "source": [
    "def applyToEach(L, f):\n",
    "    for i in range(len(L)):\n",
    "        L[i] = f(L[i])\n",
    "        \n",
    "testList = [1, -4, 8, -9]\n",
    "\n",
    " print(testList)"
   ]
  },
  {
   "cell_type": "code",
   "execution_count": 69,
   "id": "f1caf0f5",
   "metadata": {},
   "outputs": [
    {
     "data": {
      "text/plain": [
       "[4.0, 9.0, 1.5, 3.0]"
      ]
     },
     "execution_count": 69,
     "metadata": {},
     "output_type": "execute_result"
    }
   ],
   "source": [
    "def applyEachTo(L, x):\n",
    "    result = []\n",
    "    for i in range(len(L)):\n",
    "        result.append(L[i](x))\n",
    "    return result\n",
    "\n",
    "def square(a):\n",
    "    return a*a\n",
    "\n",
    "def halve(a):\n",
    "    return a/2\n",
    "\n",
    "def inc(a):\n",
    "    return a+1\n",
    "applyEachTo([inc, square, halve, abs], -3)\n",
    "applyEachTo([inc, square, halve, abs], 3.0)\n",
    "# applyEachTo([inc, max, int], -3)"
   ]
  },
  {
   "cell_type": "code",
   "execution_count": 83,
   "id": "c345a9ab",
   "metadata": {},
   "outputs": [
    {
     "data": {
      "text/plain": [
       "dict_values(['anteater', 'coati', 'donkey'])"
      ]
     },
     "execution_count": 83,
     "metadata": {},
     "output_type": "execute_result"
    }
   ],
   "source": [
    "animals = {'a': 'aardvark', 'b': 'baboon', 'c': 'coati'}\n",
    "\n",
    "animals['d'] = 'donkey'\n",
    "animals\n",
    "animals['c']\n",
    "len(animals)\n",
    "animals['a'] = 'anteater'\n",
    "animals['a']\n",
    "len(animals['a'])\n",
    "'baboon' in animals\n",
    "'donkey' in animals.values()\n",
    "'b' in animals\n",
    "animals.keys()\n",
    "del animals['b']\n",
    "len(animals)\n",
    "animals.values()"
   ]
  },
  {
   "cell_type": "code",
   "execution_count": 99,
   "id": "2488c2d5",
   "metadata": {},
   "outputs": [
    {
     "name": "stdout",
     "output_type": "stream",
     "text": [
      "6\n"
     ]
    }
   ],
   "source": [
    "animals = { 'a': ['aardvark'], 'b': ['baboon'], 'c': ['coati']}\n",
    "\n",
    "animals['d'] = ['donkey']\n",
    "animals['d'].append('dog')\n",
    "animals['d'].append('dingo')\n",
    "def how_many(aDict):\n",
    "    '''\n",
    "    aDict: A dictionary, where all the values are lists.\n",
    "\n",
    "    returns: int, how many values are in the dictionary.\n",
    "    '''\n",
    "    # Your Code Here\n",
    "    result = 0\n",
    "    # print (aDict)\n",
    "    for i in aDict.keys():\n",
    "        if isinstance(aDict[i], dict):\n",
    "            result = result + how_many(aDict[i])\n",
    "        elif isinstance(aDict[i], list):\n",
    "            result = result + len(aDict[i])\n",
    "        else:\n",
    "            result = result + 1\n",
    "    return result\n",
    "print(how_many(animals))"
   ]
  },
  {
   "cell_type": "code",
   "execution_count": 106,
   "id": "4b92f6b1",
   "metadata": {},
   "outputs": [
    {
     "data": {
      "text/plain": [
       "'d'"
      ]
     },
     "execution_count": 106,
     "metadata": {},
     "output_type": "execute_result"
    }
   ],
   "source": [
    "animals = { 'a': ['aardvark'], 'b': ['baboon'], 'c': ['coati']}\n",
    "\n",
    "animals['d'] = ['donkey']\n",
    "animals['d'].append('dog')\n",
    "animals['d'].append('dingo')\n",
    "def biggest(aDict):\n",
    "    '''\n",
    "    aDict: A dictionary, where all the values are lists.\n",
    "\n",
    "    returns: The key with the largest number of values associated with it\n",
    "    '''\n",
    "    # Your Code Here\n",
    "    result = None\n",
    "    maxv = 0\n",
    "    for i in aDict.keys():\n",
    "        if isinstance(aDict[i], list):\n",
    "            if len(aDict[i]) > maxv:\n",
    "                maxv = len(aDict[i])\n",
    "                result = i\n",
    "            elif 1 > maxv:\n",
    "                    maxv = 1\n",
    "                    result = i\n",
    "        elif 1 > maxv:\n",
    "                maxv = 1\n",
    "                result = i\n",
    "    return result\n",
    "biggest(animals)"
   ]
  },
  {
   "cell_type": "markdown",
   "id": "eab58898",
   "metadata": {},
   "source": []
  }
 ],
 "metadata": {
  "kernelspec": {
   "display_name": "Python 3",
   "language": "python",
   "name": "python3"
  },
  "language_info": {
   "codemirror_mode": {
    "name": "ipython",
    "version": 3
   },
   "file_extension": ".py",
   "mimetype": "text/x-python",
   "name": "python",
   "nbconvert_exporter": "python",
   "pygments_lexer": "ipython3",
   "version": "3.6.15"
  }
 },
 "nbformat": 4,
 "nbformat_minor": 5
}
