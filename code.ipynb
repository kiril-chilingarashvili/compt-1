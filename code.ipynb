{
 "cells": [
  {
   "cell_type": "code",
   "execution_count": 27,
   "id": "36555e89",
   "metadata": {},
   "outputs": [],
   "source": [
    "def foo_one(n):\n",
    "    \"\"\" Assume n is an int >= 0 \"\"\"\n",
    "    answer = 1.0\n",
    "    while n > 1:\n",
    "        answer *= n\n",
    "        print(n)\n",
    "        n -= 1\n",
    "    return answer\n",
    "\n",
    "def foo_two(n):\n",
    "    \"\"\" Assume n is an int >= 0 \"\"\"\n",
    "    if n <= 1: \n",
    "        return 1.0\n",
    "    else: \n",
    "        print(n)\n",
    "        return n*foo_two(n-1)"
   ]
  },
  {
   "cell_type": "code",
   "execution_count": 28,
   "id": "5c27cdf4",
   "metadata": {},
   "outputs": [
    {
     "name": "stdout",
     "output_type": "stream",
     "text": [
      "6\n",
      "5\n",
      "4\n",
      "3\n",
      "2\n"
     ]
    },
    {
     "data": {
      "text/plain": [
       "720.0"
      ]
     },
     "execution_count": 28,
     "metadata": {},
     "output_type": "execute_result"
    }
   ],
   "source": [
    "foo_one(6)\n"
   ]
  },
  {
   "cell_type": "code",
   "execution_count": 29,
   "id": "8c60867a",
   "metadata": {},
   "outputs": [
    {
     "name": "stdout",
     "output_type": "stream",
     "text": [
      "6\n",
      "5\n",
      "4\n",
      "3\n",
      "2\n"
     ]
    },
    {
     "data": {
      "text/plain": [
       "720.0"
      ]
     },
     "execution_count": 29,
     "metadata": {},
     "output_type": "execute_result"
    }
   ],
   "source": [
    "foo_two(6)"
   ]
  },
  {
   "cell_type": "markdown",
   "id": "f7fd6b59",
   "metadata": {},
   "source": []
  }
 ],
 "metadata": {
  "kernelspec": {
   "display_name": "Python 3",
   "language": "python",
   "name": "python3"
  },
  "language_info": {
   "codemirror_mode": {
    "name": "ipython",
    "version": 3
   },
   "file_extension": ".py",
   "mimetype": "text/x-python",
   "name": "python",
   "nbconvert_exporter": "python",
   "pygments_lexer": "ipython3",
   "version": "3.6.15"
  }
 },
 "nbformat": 4,
 "nbformat_minor": 5
}
