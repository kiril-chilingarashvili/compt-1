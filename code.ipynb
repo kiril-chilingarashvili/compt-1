{
 "cells": [
  {
   "cell_type": "code",
   "execution_count": 27,
   "id": "36555e89",
   "metadata": {},
   "outputs": [],
   "source": [
    "def foo_one(n):\n",
    "    \"\"\" Assume n is an int >= 0 \"\"\"\n",
    "    answer = 1.0\n",
    "    while n > 1:\n",
    "        answer *= n\n",
    "        print(n)\n",
    "        n -= 1\n",
    "    return answer\n",
    "\n",
    "def foo_two(n):\n",
    "    \"\"\" Assume n is an int >= 0 \"\"\"\n",
    "    if n <= 1: \n",
    "        return 1.0\n",
    "    else: \n",
    "        print(n)\n",
    "        return n*foo_two(n-1)"
   ]
  },
  {
   "cell_type": "code",
   "execution_count": 28,
   "id": "5c27cdf4",
   "metadata": {},
   "outputs": [
    {
     "name": "stdout",
     "output_type": "stream",
     "text": [
      "6\n",
      "5\n",
      "4\n",
      "3\n",
      "2\n"
     ]
    },
    {
     "data": {
      "text/plain": [
       "720.0"
      ]
     },
     "execution_count": 28,
     "metadata": {},
     "output_type": "execute_result"
    }
   ],
   "source": [
    "foo_one(6)\n"
   ]
  },
  {
   "cell_type": "code",
   "execution_count": 29,
   "id": "8c60867a",
   "metadata": {},
   "outputs": [
    {
     "name": "stdout",
     "output_type": "stream",
     "text": [
      "6\n",
      "5\n",
      "4\n",
      "3\n",
      "2\n"
     ]
    },
    {
     "data": {
      "text/plain": [
       "720.0"
      ]
     },
     "execution_count": 29,
     "metadata": {},
     "output_type": "execute_result"
    }
   ],
   "source": [
    "foo_two(6)"
   ]
  },
  {
   "cell_type": "code",
   "execution_count": 29,
   "id": "658e1ca4-ce53-4af2-9351-e0b6b64c0c18",
   "metadata": {},
   "outputs": [],
   "source": [
    "def print_without_vowels(s):\n",
    "    '''\n",
    "    s: the string to convert\n",
    "    Finds a version of s without vowels and whose characters appear in the \n",
    "    same order they appear in s. Prints this version of s.\n",
    "    Does not return anything\n",
    "    '''\n",
    "    vowels = {'a', 'e', 'i', 'o', 'u', 'A', 'E', 'I', 'O', 'U'}\n",
    "    if isinstance(s, str):\n",
    "        for c in s:\n",
    "            if c not in vowels:\n",
    "                print(c, end ='')\n",
    "    print('')\n",
    "    "
   ]
  },
  {
   "cell_type": "code",
   "execution_count": 30,
   "id": "a03432d6-3525-4b05-b064-0703548b0f94",
   "metadata": {},
   "outputs": [
    {
     "name": "stdout",
     "output_type": "stream",
     "text": [
      "bc\n"
     ]
    }
   ],
   "source": [
    "s = 'abc'\n",
    "print_without_vowels(s)"
   ]
  },
  {
   "cell_type": "code",
   "execution_count": 72,
   "id": "f2152b9f-b314-4a9f-bd4d-bcfabf76af4e",
   "metadata": {},
   "outputs": [],
   "source": [
    "def longest_run(L):\n",
    "    \"\"\"\n",
    "    Assumes L is a list of integers containing at least 2 elements.\n",
    "    Finds the longest run of numbers in L, where the longest run can\n",
    "    either be monotonically increasing or monotonically decreasing. \n",
    "    In case of a tie for the longest run, choose the longest run \n",
    "    that occurs first.\n",
    "    Does not modify the list.\n",
    "    Returns the sum of the longest run. \n",
    "    \"\"\"\n",
    "    longest_increasing_first_index = 0\n",
    "    longest_decreasing_first_index = 0\n",
    "    longest_increasing_list = []\n",
    "    longest_decreasing_list = []\n",
    "    \n",
    "    increasing_first_index = 0\n",
    "    decreasing_first_index = 0\n",
    "    increasing_list = []\n",
    "    decreasing_list = []\n",
    "    \n",
    "    prev = None\n",
    "    ind = 0\n",
    "    for number in L:\n",
    "        if prev == None or prev <= number:\n",
    "            increasing_list.append(number)\n",
    "        else:\n",
    "            if len(increasing_list) > len(longest_increasing_list):\n",
    "                longest_increasing_first_index = increasing_first_index\n",
    "                longest_increasing_list = increasing_list\n",
    "            increasing_list = []\n",
    "            increasing_first_index = ind\n",
    "            increasing_list.append(number)\n",
    "        if prev == None or prev >= number:\n",
    "            decreasing_list.append(number)\n",
    "        else:\n",
    "            if len(decreasing_list) > len(longest_decreasing_list):\n",
    "                longest_decreasing_first_index = decreasing_first_index\n",
    "                longest_decreasing_list = decreasing_list\n",
    "            decreasing_list = []\n",
    "            decreasing_first_index = ind\n",
    "            decreasing_list.append(number)\n",
    "        prev = number\n",
    "        ind = ind + 1\n",
    "    if len(increasing_list) > len(longest_increasing_list):\n",
    "        longest_increasing_first_index = increasing_first_index\n",
    "        longest_increasing_list = increasing_list\n",
    "    if len(decreasing_list) > len(longest_decreasing_list):\n",
    "        longest_decreasing_first_index = decreasing_first_index\n",
    "        longest_decreasing_list = decreasing_list\n",
    "    # print(longest_increasing_list, longest_increasing_first_index)\n",
    "    # print(longest_decreasing_list, longest_decreasing_first_index)\n",
    "    l = longest_increasing_list\n",
    "    if len(longest_increasing_list) == len(longest_decreasing_list):\n",
    "        if longest_increasing_first_index > longest_decreasing_first_index:\n",
    "            l = longest_decreasing_list\n",
    "    elif len(longest_increasing_list) < len(longest_decreasing_list):\n",
    "            l = longest_decreasing_list\n",
    "    result = 0\n",
    "    for number in l:\n",
    "        result += number\n",
    "    return result"
   ]
  },
  {
   "cell_type": "code",
   "execution_count": 73,
   "id": "ae5aaeb9-aac6-40da-9561-3ac156d5342d",
   "metadata": {},
   "outputs": [
    {
     "data": {
      "text/plain": [
       "6"
      ]
     },
     "execution_count": 73,
     "metadata": {},
     "output_type": "execute_result"
    }
   ],
   "source": [
    "L = [1, 2, 3, 2, -1]\n",
    "longest_run(L) # must be 6"
   ]
  },
  {
   "cell_type": "code",
   "execution_count": 75,
   "id": "03ba0688-07e2-470a-9b4b-98f796ad727d",
   "metadata": {},
   "outputs": [],
   "source": [
    "def cipher(map_from, map_to, code):\n",
    "    \"\"\" map_from, map_to: strings where each contain \n",
    "                          N unique lowercase letters. \n",
    "        code: string (assume it only contains letters also in map_from)\n",
    "        Returns a tuple of (key_code, decoded).\n",
    "        key_code is a dictionary with N keys mapping str to str where \n",
    "        each key is a letter in map_from at index i and the corresponding \n",
    "        value is the letter in map_to at index i. \n",
    "        decoded is a string that contains the decoded version \n",
    "        of code using the key_code mapping. \"\"\"\n",
    "    N = len(map_from)\n",
    "    key_code = {}\n",
    "    i = 0\n",
    "    for key in map_from:\n",
    "        key_code[key] = map_to[i]\n",
    "        i += 1\n",
    "    decoded = ''\n",
    "    for c in code:\n",
    "         decoded += key_code[c]\n",
    "    return (key_code, decoded)"
   ]
  },
  {
   "cell_type": "code",
   "execution_count": 76,
   "id": "e3923d28-ee05-429f-86c6-c7ae9b219244",
   "metadata": {},
   "outputs": [
    {
     "data": {
      "text/plain": [
       "({'a': 'd', 'b': 'c', 'c': 'b', 'd': 'a'}, 'adc')"
      ]
     },
     "execution_count": 76,
     "metadata": {},
     "output_type": "execute_result"
    }
   ],
   "source": [
    "# cipher(\"abcd\", \"dcba\", \"dab\") returns (order of entries in dictionary may not be the same) ({'a':'d', 'b': 'c', 'd': 'a', 'c': 'b'}, 'adc')\n",
    "cipher(\"abcd\", \"dcba\", \"dab\")"
   ]
  },
  {
   "cell_type": "code",
   "execution_count": 122,
   "id": "fb4035ba-8635-4c52-9a79-056f7b9b1eea",
   "metadata": {},
   "outputs": [],
   "source": [
    "class Person(object):     \n",
    "    def __init__(self, name):         \n",
    "        self.name = name     \n",
    "    def say(self, stuff):         \n",
    "        return self.name + ' says: ' + stuff     \n",
    "    def __str__(self):         \n",
    "        return self.name  \n",
    "\n",
    "class Lecturer(Person):     \n",
    "    def lecture(self, stuff):         \n",
    "        return 'I believe that ' + Person.say(self, stuff)  \n",
    "\n",
    "class Professor(Lecturer): \n",
    "    def say(self, stuff): \n",
    "        return self.name + ' says: ' + self.lecture(stuff)\n",
    "\n",
    "class ArrogantProfessor(Professor): \n",
    "    def say(self, stuff): \n",
    "        return self.name + ' says: ' + self.lecture(stuff)  \n",
    "    def lecture(self, stuff):         \n",
    "        return 'It is obvious that ' + Person.say(self, stuff)"
   ]
  },
  {
   "cell_type": "code",
   "execution_count": 123,
   "id": "b651177a-cdf8-47bc-9e92-ab19c31fcb07",
   "metadata": {},
   "outputs": [
    {
     "name": "stdout",
     "output_type": "stream",
     "text": [
      "eric says: the sky is blue\n",
      "eric says: the sky is blue\n",
      "I believe that eric says: the sky is blue\n",
      "eric says: I believe that eric says: the sky is blue\n",
      "I believe that eric says: the sky is blue\n",
      "eric says: It is obvious that eric says: the sky is blue2\n",
      "It is obvious that eric says: the sky is blue3\n"
     ]
    },
    {
     "data": {
      "text/plain": [
       "''"
      ]
     },
     "execution_count": 123,
     "metadata": {},
     "output_type": "execute_result"
    }
   ],
   "source": [
    "e = Person('eric') \n",
    "le = Lecturer('eric') \n",
    "pe = Professor('eric') \n",
    "ae = ArrogantProfessor('eric')\n",
    "print(e.say('the sky is blue'))\n",
    "print(le.say('the sky is blue'))\n",
    "print(le.lecture('the sky is blue'))\n",
    "print(pe.say('the sky is blue'))\n",
    "print(pe.lecture('the sky is blue'))\n",
    "print(ae.say('the sky is blue2'))\n",
    "print(ae.lecture('the sky is blue3'))\n",
    "\n",
    "# eric says: the sky is blue+Person\n",
    "# eric says: the sky is blue+Lecturer.say\n",
    "# I believe that eric says: the sky is blue+Lecturer.lecture\n",
    "# eric says: I believe that eric says: the sky is blue+Professor.say\n",
    "# I believe that eric says: the sky is blue+Professor.lecture\n",
    "# eric says: It is obvious that eric says: the sky is blue - ArrogantProfessor.say\n",
    "# It is obvious that eric says: the sky is blue - ArrogantProfessor.lecture\n",
    "''"
   ]
  },
  {
   "cell_type": "code",
   "execution_count": 136,
   "id": "413e6931-58d6-4773-b545-97c46fa0892e",
   "metadata": {},
   "outputs": [],
   "source": [
    "class myDict(object):\n",
    "    \"\"\" Implements a dictionary without using a dictionary \"\"\"\n",
    "    def __init__(self):\n",
    "        \"\"\" initialization of your representation \"\"\"\n",
    "        self.bag = []\n",
    "        self.bag_values = []\n",
    "\n",
    "    def __str__(self):\n",
    "        result = '{'\n",
    "        for k in self.bag:\n",
    "            result += ' \\'k\\': ' + str(self.getval(k)) + ' ,'\n",
    "        result += ' }'\n",
    "        return result  \n",
    "   \n",
    "    def assign(self, k, v):\n",
    "        \"\"\" k (the key) and v (the value), immutable objects  \"\"\"\n",
    "        found = False\n",
    "        for ind in range(len(self.bag)):\n",
    "            if k == self.bag[ind]:\n",
    "                self.bag_values[ind] = v\n",
    "                found = True\n",
    "                break\n",
    "        if not found:\n",
    "            # create new\n",
    "            self.bag.append(k)\n",
    "            self.bag_values.append(v)\n",
    "        \n",
    "    def getval(self, k):\n",
    "        \"\"\" k, immutable object  \"\"\"\n",
    "        found = False\n",
    "        for ind in range(len(self.bag)):\n",
    "            if k == self.bag[ind]:\n",
    "                return self.bag_values[ind]\n",
    "                found = True\n",
    "                break\n",
    "        if not found:\n",
    "            raise KeyError(k)\n",
    "            \n",
    "    \n",
    "    def delete(self, k):\n",
    "        \"\"\" k, immutable object \"\"\"\n",
    "        found = False\n",
    "        for ind in range(len(self.bag)):\n",
    "            if k == self.bag[ind]:\n",
    "                del self.bag[ind]\n",
    "                del self.bag_values[ind]\n",
    "                found = True\n",
    "                break\n",
    "        if not found:\n",
    "            raise KeyError(k)"
   ]
  },
  {
   "cell_type": "code",
   "execution_count": 139,
   "id": "6ccf23d5-f623-46a6-9d33-c4004bc298e1",
   "metadata": {},
   "outputs": [
    {
     "name": "stdout",
     "output_type": "stream",
     "text": [
      "{ 'k': 33 , }\n",
      "{ }\n"
     ]
    }
   ],
   "source": [
    "bag = myDict()\n",
    "bag.assign('abc', 33)\n",
    "print(bag)\n",
    "bag.delete('abc')\n",
    "print(bag)"
   ]
  },
  {
   "cell_type": "code",
   "execution_count": 130,
   "id": "2818c35d-d88a-4638-8782-6f0db0c9f222",
   "metadata": {},
   "outputs": [
    {
     "name": "stdout",
     "output_type": "stream",
     "text": [
      "{'abc': 33}\n"
     ]
    },
    {
     "ename": "KeyError",
     "evalue": "'abcs'",
     "output_type": "error",
     "traceback": [
      "\u001b[0;31m---------------------------------------------------------------------------\u001b[0m",
      "\u001b[0;31mKeyError\u001b[0m                                  Traceback (most recent call last)",
      "\u001b[0;32m<ipython-input-130-de2cffbec7cf>\u001b[0m in \u001b[0;36m<module>\u001b[0;34m\u001b[0m\n\u001b[1;32m      2\u001b[0m \u001b[0mbag\u001b[0m\u001b[0;34m[\u001b[0m\u001b[0;34m'abc'\u001b[0m\u001b[0;34m]\u001b[0m \u001b[0;34m=\u001b[0m \u001b[0;36m33\u001b[0m\u001b[0;34m\u001b[0m\u001b[0;34m\u001b[0m\u001b[0m\n\u001b[1;32m      3\u001b[0m \u001b[0mprint\u001b[0m\u001b[0;34m(\u001b[0m\u001b[0mbag\u001b[0m\u001b[0;34m)\u001b[0m\u001b[0;34m\u001b[0m\u001b[0;34m\u001b[0m\u001b[0m\n\u001b[0;32m----> 4\u001b[0;31m \u001b[0;32mdel\u001b[0m \u001b[0mbag\u001b[0m\u001b[0;34m[\u001b[0m\u001b[0;34m'abcs'\u001b[0m\u001b[0;34m]\u001b[0m\u001b[0;34m\u001b[0m\u001b[0;34m\u001b[0m\u001b[0m\n\u001b[0m\u001b[1;32m      5\u001b[0m \u001b[0mbag\u001b[0m\u001b[0;34m\u001b[0m\u001b[0;34m\u001b[0m\u001b[0m\n",
      "\u001b[0;31mKeyError\u001b[0m: 'abcs'"
     ]
    }
   ],
   "source": [
    "bag = {}\n",
    "bag['abc'] = 33\n",
    "print(bag)\n",
    "del bag['abcs']\n",
    "bag"
   ]
  },
  {
   "cell_type": "markdown",
   "id": "48b4179e-2531-40ef-a15c-16fde4d9b1bb",
   "metadata": {},
   "source": []
  }
 ],
 "metadata": {
  "kernelspec": {
   "display_name": "Python 3",
   "language": "python",
   "name": "python3"
  },
  "language_info": {
   "codemirror_mode": {
    "name": "ipython",
    "version": 3
   },
   "file_extension": ".py",
   "mimetype": "text/x-python",
   "name": "python",
   "nbconvert_exporter": "python",
   "pygments_lexer": "ipython3",
   "version": "3.8.8"
  }
 },
 "nbformat": 4,
 "nbformat_minor": 5
}
