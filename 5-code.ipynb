{
 "cells": [
  {
   "cell_type": "code",
   "execution_count": 4,
   "id": "6a0ff420",
   "metadata": {},
   "outputs": [],
   "source": [
    "class Coordinate(object):\n",
    "    def __init__(self, x, y):\n",
    "        self.x = x\n",
    "        self.y = y\n",
    "\n",
    "    def getX(self):\n",
    "        # Getter method for a Coordinate object's x coordinate.\n",
    "        # Getter methods are better practice than just accessing an attribute directly\n",
    "        return self.x\n",
    "\n",
    "    def getY(self):\n",
    "        # Getter method for a Coordinate object's y coordinate\n",
    "        return self.y\n",
    "\n",
    "    def __eq__(self, another):\n",
    "        return self.x == another.x and self.y == another.y\n",
    "\n",
    "    def __repr__(self):\n",
    "        return 'Coordinate(' + str(self.getX()) + ',' + str(self.getY()) + ')'\n",
    "\n",
    "    def __str__(self):\n",
    "        return '<' + str(self.getX()) + ',' + str(self.getY()) + '>'"
   ]
  },
  {
   "cell_type": "code",
   "execution_count": 6,
   "id": "07de187b",
   "metadata": {},
   "outputs": [
    {
     "name": "stdout",
     "output_type": "stream",
     "text": [
      "True\n"
     ]
    }
   ],
   "source": [
    "c = Coordinate(19, 23)\n",
    "d = eval(repr(c))\n",
    "print(d == c)"
   ]
  },
  {
   "cell_type": "code",
   "execution_count": 9,
   "id": "11e25f33",
   "metadata": {},
   "outputs": [],
   "source": [
    "class intSet(object):\n",
    "    \"\"\"An intSet is a set of integers\n",
    "    The value is represented by a list of ints, self.vals.\n",
    "    Each int in the set occurs in self.vals exactly once.\"\"\"\n",
    "\n",
    "    def __init__(self):\n",
    "        \"\"\"Create an empty set of integers\"\"\"\n",
    "        self.vals = []\n",
    "\n",
    "    def insert(self, e):\n",
    "        \"\"\"Assumes e is an integer and inserts e into self\"\"\" \n",
    "        if not e in self.vals:\n",
    "            self.vals.append(e)\n",
    "\n",
    "    def member(self, e):\n",
    "        \"\"\"Assumes e is an integer\n",
    "           Returns True if e is in self, and False otherwise\"\"\"\n",
    "        return e in self.vals\n",
    "    \n",
    "    def __len__(self):\n",
    "        return len(self.vals)\n",
    "\n",
    "    def intersect(self, o):\n",
    "        \"\"\"Returns a new intSet containing elements that appear in both sets\"\"\"\n",
    "        result = intSet()\n",
    "        for item in self.vals:\n",
    "            if o.member(item):\n",
    "                result.insert(item)\n",
    "        return result\n",
    "\n",
    "    def remove(self, e):\n",
    "        \"\"\"Assumes e is an integer and removes e from self\n",
    "           Raises ValueError if e is not in self\"\"\"\n",
    "        try:\n",
    "            self.vals.remove(e)\n",
    "        except:\n",
    "            raise ValueError(str(e) + ' not found')\n",
    "\n",
    "    def __str__(self):\n",
    "        \"\"\"Returns a string representation of self\"\"\"\n",
    "        self.vals.sort()\n",
    "        return '{' + ','.join([str(e) for e in self.vals]) + '}'"
   ]
  },
  {
   "cell_type": "code",
   "execution_count": 12,
   "id": "5c36516e",
   "metadata": {},
   "outputs": [
    {
     "name": "stdout",
     "output_type": "stream",
     "text": [
      "Accio\n",
      "Summoning Charm Accio\n",
      "No description\n",
      "Confundus Charm Confundo\n",
      "Causes the victim to become confused and befuddled.\n"
     ]
    }
   ],
   "source": [
    "class Spell(object):\n",
    "    def __init__(self, incantation, name):\n",
    "        self.name = name\n",
    "        self.incantation = incantation\n",
    "\n",
    "    def __str__(self):\n",
    "        return self.name + ' ' + self.incantation + '\\n' + self.getDescription()\n",
    "              \n",
    "    def getDescription(self):\n",
    "        return 'No description'\n",
    "    \n",
    "    def execute(self):\n",
    "        print(self.incantation)\n",
    "\n",
    "\n",
    "class Accio(Spell):\n",
    "    def __init__(self):\n",
    "        Spell.__init__(self, 'Accio', 'Summoning Charm')\n",
    "\n",
    "class Confundo(Spell):\n",
    "    def __init__(self):\n",
    "        Spell.__init__(self, 'Confundo', 'Confundus Charm')\n",
    "\n",
    "    def getDescription(self):\n",
    "        return 'Causes the victim to become confused and befuddled.'\n",
    "\n",
    "def studySpell(spell):\n",
    "    print(spell)\n",
    "\n",
    "spell = Accio()\n",
    "spell.execute()\n",
    "studySpell(spell)\n",
    "studySpell(Confundo())"
   ]
  },
  {
   "cell_type": "code",
   "execution_count": 13,
   "id": "5a9ff637",
   "metadata": {},
   "outputs": [],
   "source": [
    "class A(object):\n",
    "    def __init__(self):\n",
    "        self.a = 1\n",
    "    def x(self):\n",
    "        print(\"A.x\")\n",
    "    def y(self):\n",
    "        print(\"A.y\")\n",
    "    def z(self):\n",
    "        print(\"A.z\")\n",
    "\n",
    "class B(A):\n",
    "    def __init__(self):\n",
    "        A.__init__(self)\n",
    "        self.a = 2\n",
    "        self.b = 3\n",
    "    def y(self):\n",
    "        print(\"B.y\")\n",
    "    def z(self):\n",
    "        print(\"B.z\")\n",
    "\n",
    "class C(object):\n",
    "    def __init__(self):\n",
    "        self.a = 4\n",
    "        self.c = 5\n",
    "    def y(self):\n",
    "        print(\"C.y\")\n",
    "    def z(self):\n",
    "        print(\"C.z\")\n",
    "\n",
    "class D(C, B):\n",
    "    def __init__(self):\n",
    "        C.__init__(self)\n",
    "        B.__init__(self)\n",
    "        self.d = 6\n",
    "    def z(self):\n",
    "        print(\"D.z\")"
   ]
  },
  {
   "cell_type": "code",
   "execution_count": 21,
   "id": "47c1511a",
   "metadata": {},
   "outputs": [
    {
     "name": "stdout",
     "output_type": "stream",
     "text": [
      "D.z\n"
     ]
    }
   ],
   "source": [
    "obj = D()\n",
    "obj.z()"
   ]
  },
  {
   "cell_type": "code",
   "execution_count": 23,
   "id": "67140aaa",
   "metadata": {},
   "outputs": [
    {
     "name": "stdout",
     "output_type": "stream",
     "text": [
      "bgkoqtu\n",
      "7\n",
      "aampszz\n",
      "7\n",
      "ampsz\n"
     ]
    }
   ],
   "source": [
    "import random \n",
    "\n",
    "class Hand(object):\n",
    "    def __init__(self, n):\n",
    "        '''\n",
    "        Initialize a Hand.\n",
    "\n",
    "        n: integer, the size of the hand.\n",
    "        '''\n",
    "        assert type(n) == int\n",
    "        self.HAND_SIZE = n\n",
    "        self.VOWELS = 'aeiou'\n",
    "        self.CONSONANTS = 'bcdfghjklmnpqrstvwxyz'\n",
    "\n",
    "        # Deal a new hand\n",
    "        self.dealNewHand()\n",
    "\n",
    "    def dealNewHand(self):\n",
    "        '''\n",
    "        Deals a new hand, and sets the hand attribute to the new hand.\n",
    "        '''\n",
    "        # Set self.hand to a new, empty dictionary\n",
    "        self.hand = {}\n",
    "\n",
    "        # Build the hand\n",
    "        numVowels = self.HAND_SIZE // 3\n",
    "    \n",
    "        for i in range(numVowels):\n",
    "            x = self.VOWELS[random.randrange(0,len(self.VOWELS))]\n",
    "            self.hand[x] = self.hand.get(x, 0) + 1\n",
    "        \n",
    "        for i in range(numVowels, self.HAND_SIZE):    \n",
    "            x = self.CONSONANTS[random.randrange(0,len(self.CONSONANTS))]\n",
    "            self.hand[x] = self.hand.get(x, 0) + 1\n",
    "            \n",
    "    def setDummyHand(self, handString):\n",
    "        '''\n",
    "        Allows you to set a dummy hand. Useful for testing your implementation.\n",
    "\n",
    "        handString: A string of letters you wish to be in the hand. Length of this\n",
    "        string must be equal to self.HAND_SIZE.\n",
    "\n",
    "        This method converts sets the hand attribute to a dictionary\n",
    "        containing the letters of handString.\n",
    "        '''\n",
    "        assert len(handString) == self.HAND_SIZE, \"Length of handString ({0}) must equal length of HAND_SIZE ({1})\".format(len(handString), self.HAND_SIZE)\n",
    "        self.hand = {}\n",
    "        for char in handString:\n",
    "            self.hand[char] = self.hand.get(char, 0) + 1\n",
    "\n",
    "\n",
    "    def calculateLen(self):\n",
    "        '''\n",
    "        Calculate the length of the hand.\n",
    "        '''\n",
    "        ans = 0\n",
    "        for k in self.hand:\n",
    "            ans += self.hand[k]\n",
    "        return ans\n",
    "    \n",
    "    def __str__(self):\n",
    "        '''\n",
    "        Display a string representation of the hand.\n",
    "        '''\n",
    "        output = ''\n",
    "        hand_keys = sorted(self.hand.keys())\n",
    "        for letter in hand_keys:\n",
    "            for j in range(self.hand[letter]):\n",
    "                output += letter\n",
    "        return output\n",
    "\n",
    "    def isValidWord(self, word):\n",
    "        \"\"\"\n",
    "        Returns True if word is entirely\n",
    "        composed of letters in the hand. Otherwise, returns False.\n",
    "\n",
    "        Does not mutate hand.\n",
    "\n",
    "        word: string\n",
    "        \"\"\"\n",
    "        result = False\n",
    "\n",
    "        if word != '':\n",
    "            has = True\n",
    "            copy = dict(self.hand)\n",
    "            for c in word:\n",
    "                if copy.get(c) == None:\n",
    "                    has = False\n",
    "                    break\n",
    "                elif copy.get(c) < 1:\n",
    "                    has = False\n",
    "                    break\n",
    "                else:\n",
    "                    copy[c] -= 1\n",
    "            if has:\n",
    "                result = True\n",
    "\n",
    "        return result\n",
    "    \n",
    "    def update(self, word):\n",
    "        \"\"\"\n",
    "        Does not assume that self.hand has all the letters in word.\n",
    "\n",
    "        Updates the hand: if self.hand does have all the letters to make\n",
    "        the word, modifies self.hand by using up the letters in the given word.\n",
    "\n",
    "        Returns True if the word was able to be made with the letter in\n",
    "        the hand; False otherwise.\n",
    "        \n",
    "        word: string\n",
    "        returns: Boolean (if the word was or was not made)\n",
    "        \"\"\"\n",
    "        result = self.isValidWord(word)\n",
    "        if result:\n",
    "            for c in word:\n",
    "                if self.hand.get(c) != None:\n",
    "                    self.hand[c] -= 1\n",
    "                    if self.hand[c] == 0:\n",
    "                        del self.hand[c]\n",
    "\n",
    "        return result\n",
    "\n",
    "    \n",
    "myHand = Hand(7)\n",
    "print(myHand)\n",
    "print(myHand.calculateLen())\n",
    "\n",
    "myHand.setDummyHand('aazzmsp')\n",
    "print(myHand)\n",
    "print(myHand.calculateLen())\n",
    "\n",
    "myHand.update('za')\n",
    "print(myHand)\n"
   ]
  },
  {
   "cell_type": "code",
   "execution_count": 30,
   "id": "1fd15dfe",
   "metadata": {},
   "outputs": [],
   "source": [
    "def genPrimes():\n",
    "    l = []\n",
    "    while True:\n",
    "        if len(l) == 0:\n",
    "            l.append(2)\n",
    "            yield 2\n",
    "        else:\n",
    "            m = l[-1]\n",
    "            while True:\n",
    "                m += 1\n",
    "                allNZ = True\n",
    "                for i in l:\n",
    "                    if m % i == 0:\n",
    "                        allNZ = False\n",
    "                        break\n",
    "                if allNZ:\n",
    "                    l.append(m)\n",
    "                    yield m"
   ]
  },
  {
   "cell_type": "code",
   "execution_count": 71,
   "id": "c2587b15",
   "metadata": {},
   "outputs": [
    {
     "data": {
      "text/plain": [
       "2"
      ]
     },
     "execution_count": 71,
     "metadata": {},
     "output_type": "execute_result"
    }
   ],
   "source": [
    "primeGenerator = genPrimes()\n",
    "primeGenerator.__next__()"
   ]
  },
  {
   "cell_type": "code",
   "execution_count": 73,
   "id": "4c279301",
   "metadata": {},
   "outputs": [
    {
     "data": {
      "text/plain": [
       "5"
      ]
     },
     "execution_count": 73,
     "metadata": {},
     "output_type": "execute_result"
    }
   ],
   "source": [
    "primeGenerator.__next__()"
   ]
  },
  {
   "cell_type": "markdown",
   "id": "59f4c6b0",
   "metadata": {},
   "source": []
  }
 ],
 "metadata": {
  "kernelspec": {
   "display_name": "Python 3",
   "language": "python",
   "name": "python3"
  },
  "language_info": {
   "codemirror_mode": {
    "name": "ipython",
    "version": 3
   },
   "file_extension": ".py",
   "mimetype": "text/x-python",
   "name": "python",
   "nbconvert_exporter": "python",
   "pygments_lexer": "ipython3",
   "version": "3.6.15"
  }
 },
 "nbformat": 4,
 "nbformat_minor": 5
}
