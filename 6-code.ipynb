{
 "cells": [
  {
   "cell_type": "code",
   "execution_count": null,
   "id": "19b6a836",
   "metadata": {},
   "outputs": [],
   "source": [
    "def linearSearch(L, x):\n",
    "    for e in L:\n",
    "        if e == x:\n",
    "            return True\n",
    "    return False"
   ]
  },
  {
   "cell_type": "code",
   "execution_count": 1,
   "id": "b6361dc3",
   "metadata": {},
   "outputs": [],
   "source": [
    "a = [1, 2, 3, 4, 0]\n",
    "b = [3, 0, 2, 4, 1]\n",
    "c = [3, 2, 4, 1, 5]\n"
   ]
  },
  {
   "cell_type": "code",
   "execution_count": 4,
   "id": "8b1e8542",
   "metadata": {},
   "outputs": [
    {
     "data": {
      "text/plain": [
       "4"
      ]
     },
     "execution_count": 4,
     "metadata": {},
     "output_type": "execute_result"
    }
   ],
   "source": [
    "a[c[a[b[3]]]]"
   ]
  },
  {
   "cell_type": "code",
   "execution_count": 5,
   "id": "3cc199d8",
   "metadata": {},
   "outputs": [],
   "source": [
    "def foo(L):\n",
    "    val = L[0]\n",
    "    while (True):\n",
    "        val = L[val]"
   ]
  },
  {
   "cell_type": "code",
   "execution_count": 26,
   "id": "edaa820e",
   "metadata": {},
   "outputs": [],
   "source": [
    "def search(L, e):\n",
    "    for i in range(len(L)):\n",
    "        if L[i] == e:\n",
    "            return True\n",
    "        if L[i] > e:\n",
    "            return False\n",
    "    return False"
   ]
  },
  {
   "cell_type": "code",
   "execution_count": 27,
   "id": "a404bd8b",
   "metadata": {},
   "outputs": [],
   "source": [
    "def newsearch(L, e):\n",
    "    size = len(L)\n",
    "    for i in range(size):\n",
    "        if L[size-i-1] == e:\n",
    "            return True\n",
    "        if L[i] < e:\n",
    "            return False\n",
    "    return False"
   ]
  },
  {
   "cell_type": "code",
   "execution_count": 31,
   "id": "405ea093",
   "metadata": {},
   "outputs": [
    {
     "data": {
      "text/plain": [
       "(True, True)"
      ]
     },
     "execution_count": 31,
     "metadata": {},
     "output_type": "execute_result"
    }
   ],
   "source": [
    "L = [8]\n",
    "e=8\n",
    "search(L, e), newsearch(L, e)"
   ]
  },
  {
   "cell_type": "code",
   "execution_count": 32,
   "id": "27271ed2",
   "metadata": {},
   "outputs": [],
   "source": [
    "def swapSort(L): \n",
    "    \"\"\" L is a list on integers \"\"\"\n",
    "    print(\"Original L: \", L)\n",
    "    for i in range(len(L)):\n",
    "        for j in range(i+1, len(L)):\n",
    "            if L[j] < L[i]:\n",
    "                # the next line is a short \n",
    "                # form for swap L[i] and L[j]\n",
    "                L[j], L[i] = L[i], L[j] \n",
    "                print(L)\n",
    "    print(\"Final L: \", L)"
   ]
  },
  {
   "cell_type": "code",
   "execution_count": 35,
   "id": "d75e6453",
   "metadata": {},
   "outputs": [
    {
     "name": "stdout",
     "output_type": "stream",
     "text": [
      "Original L:  [23, 4, 5, 5]\n",
      "[4, 23, 5, 5]\n",
      "[4, 5, 23, 5]\n",
      "[4, 5, 5, 23]\n",
      "Final L:  [4, 5, 5, 23]\n"
     ]
    }
   ],
   "source": [
    "L = [23,4,5,5]\n",
    "swapSort(L)"
   ]
  },
  {
   "cell_type": "code",
   "execution_count": 36,
   "id": "3842745b",
   "metadata": {},
   "outputs": [],
   "source": [
    "def modSwapSort(L): \n",
    "    \"\"\" L is a list on integers \"\"\"\n",
    "    print(\"Original L: \", L)\n",
    "    for i in range(len(L)):\n",
    "        for j in range(len(L)):\n",
    "            if L[j] < L[i]:\n",
    "                # the next line is a short \n",
    "                # form for swap L[i] and L[j]\n",
    "                L[j], L[i] = L[i], L[j] \n",
    "                print(L)\n",
    "    print(\"Final L: \", L)"
   ]
  },
  {
   "cell_type": "code",
   "execution_count": 47,
   "id": "740e9acf",
   "metadata": {},
   "outputs": [
    {
     "name": "stdout",
     "output_type": "stream",
     "text": [
      "Original L:  [0, 1, 12, 12, 1, 1, 1, 1, 10, 0, 2]\n",
      "[1, 0, 12, 12, 1, 1, 1, 1, 10, 0, 2]\n",
      "[12, 0, 1, 12, 1, 1, 1, 1, 10, 0, 2]\n",
      "[12, 1, 0, 12, 1, 1, 1, 1, 10, 0, 2]\n",
      "[12, 12, 0, 1, 1, 1, 1, 1, 10, 0, 2]\n",
      "[12, 12, 1, 0, 1, 1, 1, 1, 10, 0, 2]\n",
      "[12, 12, 1, 1, 0, 1, 1, 1, 10, 0, 2]\n",
      "[12, 12, 1, 1, 1, 0, 1, 1, 10, 0, 2]\n",
      "[12, 12, 1, 1, 1, 1, 0, 1, 10, 0, 2]\n",
      "[12, 12, 1, 1, 1, 1, 1, 0, 10, 0, 2]\n",
      "[12, 12, 10, 1, 1, 1, 1, 0, 1, 0, 2]\n",
      "[12, 12, 10, 1, 1, 1, 1, 1, 0, 0, 2]\n",
      "[12, 12, 10, 2, 1, 1, 1, 1, 0, 0, 1]\n",
      "[12, 12, 10, 2, 1, 1, 1, 1, 1, 0, 0]\n",
      "Final L:  [12, 12, 10, 2, 1, 1, 1, 1, 1, 0, 0]\n"
     ]
    }
   ],
   "source": [
    "L = [0,1,12,12,1,1,1,1,10,0,2]\n",
    "modSwapSort(L)"
   ]
  },
  {
   "cell_type": "markdown",
   "id": "2bcb647d",
   "metadata": {},
   "source": []
  }
 ],
 "metadata": {
  "kernelspec": {
   "display_name": "Python 3",
   "language": "python",
   "name": "python3"
  },
  "language_info": {
   "codemirror_mode": {
    "name": "ipython",
    "version": 3
   },
   "file_extension": ".py",
   "mimetype": "text/x-python",
   "name": "python",
   "nbconvert_exporter": "python",
   "pygments_lexer": "ipython3",
   "version": "3.6.15"
  }
 },
 "nbformat": 4,
 "nbformat_minor": 5
}
