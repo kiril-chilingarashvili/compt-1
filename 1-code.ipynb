{
 "cells": [
  {
   "cell_type": "code",
   "execution_count": 2,
   "id": "8f148474",
   "metadata": {},
   "outputs": [
    {
     "data": {
      "text/plain": [
       "4"
      ]
     },
     "execution_count": 2,
     "metadata": {},
     "output_type": "execute_result"
    }
   ],
   "source": [
    "import numpy\n",
    "import matplotlib\n",
    "\n",
    "--4"
   ]
  },
  {
   "cell_type": "code",
   "execution_count": 4,
   "id": "bb87533c",
   "metadata": {},
   "outputs": [
    {
     "data": {
      "text/plain": [
       "'dlrowolleh'"
      ]
     },
     "execution_count": 4,
     "metadata": {},
     "output_type": "execute_result"
    }
   ],
   "source": [
    "str1 = 'hello'\n",
    "str2 = ','\n",
    "str3 = 'world'\n",
    "str4 = str1 + str3\n",
    "str4[::-1]"
   ]
  },
  {
   "cell_type": "code",
   "execution_count": 5,
   "id": "204f8b6c",
   "metadata": {},
   "outputs": [
    {
     "name": "stdout",
     "output_type": "stream",
     "text": [
      "5\n",
      "4\n"
     ]
    }
   ],
   "source": [
    "num = 5\n",
    "if num > 2:\n",
    "    print(num)\n",
    "    num -= 1\n",
    "print(num)"
   ]
  },
  {
   "cell_type": "code",
   "execution_count": 6,
   "id": "0f221634",
   "metadata": {},
   "outputs": [
    {
     "name": "stdout",
     "output_type": "stream",
     "text": [
      "9\n",
      "8\n",
      "7\n",
      "6\n",
      "5\n",
      "4\n",
      "3\n"
     ]
    }
   ],
   "source": [
    "num = 10\n",
    "while num > 3:\n",
    "    num -= 1\n",
    "    print(num) "
   ]
  },
  {
   "cell_type": "code",
   "execution_count": 7,
   "id": "cb2e4c97",
   "metadata": {},
   "outputs": [
    {
     "name": "stdout",
     "output_type": "stream",
     "text": [
      "2\n",
      "4\n",
      "6\n",
      "8\n",
      "10\n",
      "Goodbye!\n"
     ]
    }
   ],
   "source": [
    "for x in range(2,11,2):\n",
    "    print(x)\n",
    "print('Goodbye!')"
   ]
  },
  {
   "cell_type": "code",
   "execution_count": 9,
   "id": "53df4f47",
   "metadata": {},
   "outputs": [
    {
     "name": "stdout",
     "output_type": "stream",
     "text": [
      "21\n"
     ]
    }
   ],
   "source": [
    "s = 0\n",
    "x = 1\n",
    "while x <= end:\n",
    "    s = s + x\n",
    "    x = x + 1\n",
    "print(s)"
   ]
  },
  {
   "cell_type": "code",
   "execution_count": 10,
   "id": "cdc28a93",
   "metadata": {},
   "outputs": [
    {
     "name": "stdout",
     "output_type": "stream",
     "text": [
      "0.0\n",
      "1.0\n",
      "2.0\n",
      "3.0\n",
      "4.0\n"
     ]
    }
   ],
   "source": [
    "divisor = 2\n",
    "for num in range(0, 10, 2):\n",
    "    print(num/divisor) "
   ]
  },
  {
   "cell_type": "code",
   "execution_count": 11,
   "id": "88dc7998",
   "metadata": {},
   "outputs": [
    {
     "name": "stdout",
     "output_type": "stream",
     "text": [
      "0\n",
      "Foo!\n",
      "4\n",
      "8\n",
      "12\n",
      "16\n",
      "Foo!\n"
     ]
    }
   ],
   "source": [
    "for variable in range(20):\n",
    "    if variable % 4 == 0:\n",
    "        print(variable)\n",
    "    if variable % 16 == 0:\n",
    "        print('Foo!') "
   ]
  },
  {
   "cell_type": "code",
   "execution_count": 12,
   "id": "f4fbc7ec",
   "metadata": {},
   "outputs": [
    {
     "name": "stdout",
     "output_type": "stream",
     "text": [
      "Letter # 0 is S\n",
      "1\n"
     ]
    }
   ],
   "source": [
    "count = 0\n",
    "for letter in 'Snow!':\n",
    "    print('Letter # ' + str(count) + ' is ' + str(letter))\n",
    "    count += 1\n",
    "    break\n",
    "print(count)"
   ]
  },
  {
   "cell_type": "code",
   "execution_count": 1,
   "id": "c99556ed",
   "metadata": {},
   "outputs": [
    {
     "name": "stdout",
     "output_type": "stream",
     "text": [
      "M\n",
      "numVowels is: 11\n",
      "numCons is: -25\n"
     ]
    }
   ],
   "source": [
    "school = 'Massachusetts Institute of Technology'\n",
    "numVowels = 0\n",
    "numCons = 0\n",
    "\n",
    "for char in school:\n",
    "    if char == 'a' or char == 'e' or char == 'i' \\\n",
    "       or char == 'o' or char == 'u':\n",
    "        numVowels += 1\n",
    "    elif char == 'o' or char == 'M':\n",
    "        print(char)\n",
    "    else:\n",
    "        numCons -= 1\n",
    "\n",
    "print('numVowels is: ' + str(numVowels))\n",
    "print('numCons is: ' + str(numCons)) "
   ]
  },
  {
   "cell_type": "code",
   "execution_count": 6,
   "id": "2ba8d4d1",
   "metadata": {},
   "outputs": [
    {
     "name": "stdout",
     "output_type": "stream",
     "text": [
      "azc\n",
      "zcb\n",
      "cbo\n",
      "bob\n",
      "obo\n",
      "bob\n",
      "obe\n",
      "beg\n",
      "egg\n",
      "ggh\n",
      "gha\n",
      "hak\n",
      "akl\n",
      "kl\n",
      "l\n",
      "Number of times bob occurs is: 2\n"
     ]
    }
   ],
   "source": [
    "s = 'azcbobobegghakl'\n",
    "# Paste your code into this box \n",
    "count = 0\n",
    "for i in range(len(s)):\n",
    "    print(s[i:i+3])\n",
    "    if s[i:i+3] == 'bob':\n",
    "        count = count + 1\n",
    "print('Number of times bob occurs is:', count)"
   ]
  },
  {
   "cell_type": "code",
   "execution_count": 16,
   "id": "7e56e6bd",
   "metadata": {},
   "outputs": [
    {
     "name": "stdout",
     "output_type": "stream",
     "text": [
      "Longest substring in alphabetical order is: z\n"
     ]
    }
   ],
   "source": [
    "s = 'zyxwvutsrqponmlkjihgfedcba'\n",
    "# Paste your code into this box \n",
    "prev = ''\n",
    "longest = ''\n",
    "current = ''\n",
    "for i in range(len(s)):\n",
    "    c = s[i]\n",
    "    if prev == '':\n",
    "        current = c\n",
    "        prev = c\n",
    "        if len(current) > len(longest):\n",
    "            longest = current\n",
    "    elif c >= prev:\n",
    "        current = current + c\n",
    "        prev = c\n",
    "        if len(current) > len(longest):\n",
    "            longest = current\n",
    "    else:\n",
    "        prev = c\n",
    "        current = c\n",
    "print('Longest substring in alphabetical order is:', longest)"
   ]
  },
  {
   "cell_type": "code",
   "execution_count": 1,
   "id": "c067d81c",
   "metadata": {},
   "outputs": [
    {
     "name": "stdout",
     "output_type": "stream",
     "text": [
      "Iteration 0; count is: 12\n",
      "Iteration 1; count is: 24\n",
      "Iteration 2; count is: 36\n",
      "Iteration 3; count is: 48\n",
      "Iteration 4; count is: 60\n"
     ]
    }
   ],
   "source": [
    "iteration = 0\n",
    "count = 0\n",
    "while iteration < 5:\n",
    "    # the variable 'letter' in the loop stands for every \n",
    "    # character, including spaces and commas!\n",
    "    for letter in \"hello, world\": \n",
    "        count += 1\n",
    "    print(\"Iteration \" + str(iteration) + \"; count is: \" + str(count))\n",
    "    iteration += 1"
   ]
  },
  {
   "cell_type": "code",
   "execution_count": 2,
   "id": "07c2b52e",
   "metadata": {},
   "outputs": [
    {
     "name": "stdout",
     "output_type": "stream",
     "text": [
      "Iteration 0; count is: 12\n",
      "Iteration 1; count is: 12\n",
      "Iteration 2; count is: 12\n",
      "Iteration 3; count is: 12\n",
      "Iteration 4; count is: 12\n"
     ]
    }
   ],
   "source": [
    "iteration = 0\n",
    "while iteration < 5:\n",
    "    count = 0\n",
    "    for letter in \"hello, world\":\n",
    "        count += 1\n",
    "    print(\"Iteration \" + str(iteration) + \"; count is: \" + str(count))\n",
    "    iteration += 1 "
   ]
  },
  {
   "cell_type": "code",
   "execution_count": 3,
   "id": "d0d2b497",
   "metadata": {},
   "outputs": [
    {
     "name": "stdout",
     "output_type": "stream",
     "text": [
      "Iteration 0; count is: 1\n",
      "Iteration 1; count is: 12\n",
      "Iteration 2; count is: 1\n",
      "Iteration 3; count is: 12\n",
      "Iteration 4; count is: 1\n"
     ]
    }
   ],
   "source": [
    "iteration = 0\n",
    "while iteration < 5:\n",
    "    count = 0\n",
    "    for letter in \"hello, world\":\n",
    "        count += 1\n",
    "        if iteration % 2 == 0:\n",
    "            break\n",
    "    print(\"Iteration \" + str(iteration) + \"; count is: \" + str(count))\n",
    "    iteration += 1 "
   ]
  },
  {
   "cell_type": "code",
   "execution_count": 4,
   "id": "2f0d0d2b",
   "metadata": {},
   "outputs": [
    {
     "name": "stdout",
     "output_type": "stream",
     "text": [
      "succeeded: 4.999999999999998\n"
     ]
    }
   ],
   "source": [
    "x = 25\n",
    "epsilon = 0.01\n",
    "step = 0.1\n",
    "guess = 0.0\n",
    "\n",
    "while guess <= x:\n",
    "    if abs(guess**2 -x) < epsilon:\n",
    "        break\n",
    "    else:\n",
    "        guess += step\n",
    "\n",
    "if abs(guess**2 - x) >= epsilon:\n",
    "    print('failed')\n",
    "else:\n",
    "    print('succeeded: ' + str(guess))"
   ]
  },
  {
   "cell_type": "code",
   "execution_count": 7,
   "id": "ef75f019",
   "metadata": {},
   "outputs": [
    {
     "name": "stdout",
     "output_type": "stream",
     "text": [
      "failed\n"
     ]
    }
   ],
   "source": [
    "x = 23\n",
    "epsilon = 0.01\n",
    "step = 0.1\n",
    "guess = 0.0\n",
    "\n",
    "while abs(guess**2-x) >= epsilon:\n",
    "    if guess <= x:\n",
    "        guess += step\n",
    "    else:\n",
    "        break\n",
    "\n",
    "if abs(guess**2 - x) >= epsilon:\n",
    "    print('failed')\n",
    "else:\n",
    "    print('succeeded: ' + str(guess))"
   ]
  },
  {
   "cell_type": "code",
   "execution_count": 16,
   "id": "2ae6ebde",
   "metadata": {},
   "outputs": [
    {
     "name": "stdout",
     "output_type": "stream",
     "text": [
      "Please think of a number between 0 and 100!\n",
      "Is your secret number 50?\n"
     ]
    },
    {
     "name": "stdin",
     "output_type": "stream",
     "text": [
      "Enter 'h' to indicate the guess is too high. Enter 'l' to indicate the guess is too low. Enter 'c' to indicate I guessed correctly. l\n"
     ]
    },
    {
     "name": "stdout",
     "output_type": "stream",
     "text": [
      "Is your secret number 75?\n"
     ]
    },
    {
     "name": "stdin",
     "output_type": "stream",
     "text": [
      "Enter 'h' to indicate the guess is too high. Enter 'l' to indicate the guess is too low. Enter 'c' to indicate I guessed correctly. c\n"
     ]
    },
    {
     "name": "stdout",
     "output_type": "stream",
     "text": [
      "Game over. Your secret number was:  75\n"
     ]
    }
   ],
   "source": [
    "print(\"Please think of a number between 0 and 100!\")\n",
    "num = 50\n",
    "eq = False\n",
    "max_ = 100\n",
    "min_ = 0\n",
    "while not eq:\n",
    "    print(\"Is your secret number \" + str(num) + \"?\")\n",
    "    c = input(\"Enter 'h' to indicate the guess is too high. Enter 'l' to indicate the guess is too low. Enter 'c' to indicate I guessed correctly.\")\n",
    "    if c == 'h':\n",
    "        max_ = num\n",
    "        num = min_+(max_ - min_)//2\n",
    "    elif c =='l':\n",
    "        min_ = num\n",
    "        num = min_+(max_ - min_)//2\n",
    "    elif c == 'c':\n",
    "        print('Game over. Your secret number was: ', num)\n",
    "        break\n",
    "    else:\n",
    "        print('Sorry, I did not understand your input.')\n"
   ]
  },
  {
   "cell_type": "markdown",
   "id": "f5e7ee95",
   "metadata": {},
   "source": []
  }
 ],
 "metadata": {
  "kernelspec": {
   "display_name": "Python 3",
   "language": "python",
   "name": "python3"
  },
  "language_info": {
   "codemirror_mode": {
    "name": "ipython",
    "version": 3
   },
   "file_extension": ".py",
   "mimetype": "text/x-python",
   "name": "python",
   "nbconvert_exporter": "python",
   "pygments_lexer": "ipython3",
   "version": "3.6.15"
  }
 },
 "nbformat": 4,
 "nbformat_minor": 5
}
