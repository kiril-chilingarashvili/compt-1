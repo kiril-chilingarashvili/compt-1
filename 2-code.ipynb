{
 "cells": [
  {
   "cell_type": "code",
   "execution_count": 5,
   "id": "0b49bd77",
   "metadata": {},
   "outputs": [
    {
     "name": "stdout",
     "output_type": "stream",
     "text": [
      "Remaining balance:  31.38\n"
     ]
    }
   ],
   "source": [
    "# Test Case 1:\n",
    "balance = 42\n",
    "annualInterestRate = 0.2\n",
    "monthlyPaymentRate = 0.04\n",
    "\n",
    "monthlyInterestRate = annualInterestRate / 12\n",
    "currentBalance = balance\n",
    "\n",
    "for month in range(1,13):\n",
    "    minimumMonthlyPayment = monthlyPaymentRate * currentBalance\n",
    "    monthlyUnpaidBalance = currentBalance - minimumMonthlyPayment\n",
    "    updatedBalance = monthlyUnpaidBalance + monthlyInterestRate * monthlyUnpaidBalance\n",
    "\n",
    "    currentBalance = updatedBalance\n",
    "    #print('Month ', month, ' Remaining balance: ', round(currentBalance, 2))\n",
    "print('Remaining balance: ', round(currentBalance, 2))"
   ]
  },
  {
   "cell_type": "code",
   "execution_count": 8,
   "id": "a787740d",
   "metadata": {},
   "outputs": [
    {
     "name": "stdout",
     "output_type": "stream",
     "text": [
      "Lowest Payment:  290\n"
     ]
    }
   ],
   "source": [
    "# Test Case 1:\n",
    "balance = 3405\n",
    "annualInterestRate = 0.04\n",
    "\n",
    "monthlyInterestRate = annualInterestRate / 12.0\n",
    "minimumFixedMonthlyPaymentResult = 0.0\n",
    "\n",
    "maxBalance = balance + balance * annualInterestRate\n",
    "for i in range(int(maxBalance)//10):\n",
    "    minimumFixedMonthlyPayment = (i+1) * 10\n",
    "    currentBalance = balance\n",
    "    for month in range(1,13):\n",
    "        monthlyUnpaidBalance = currentBalance - minimumFixedMonthlyPayment\n",
    "        updatedBalance = monthlyUnpaidBalance + monthlyInterestRate * monthlyUnpaidBalance\n",
    "        currentBalance = updatedBalance\n",
    "    if currentBalance <=0:\n",
    "        minimumFixedMonthlyPaymentResult = minimumFixedMonthlyPayment\n",
    "        break\n",
    "print('Lowest Payment: ', minimumFixedMonthlyPaymentResult)\n",
    "    "
   ]
  },
  {
   "cell_type": "code",
   "execution_count": null,
   "id": "fd6a1fac",
   "metadata": {},
   "outputs": [],
   "source": []
  }
 ],
 "metadata": {
  "kernelspec": {
   "display_name": "Python 3",
   "language": "python",
   "name": "python3"
  },
  "language_info": {
   "codemirror_mode": {
    "name": "ipython",
    "version": 3
   },
   "file_extension": ".py",
   "mimetype": "text/x-python",
   "name": "python",
   "nbconvert_exporter": "python",
   "pygments_lexer": "ipython3",
   "version": "3.6.15"
  }
 },
 "nbformat": 4,
 "nbformat_minor": 5
}
