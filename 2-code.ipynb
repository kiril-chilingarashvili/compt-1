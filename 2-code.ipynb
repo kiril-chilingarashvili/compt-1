{
 "cells": [
  {
   "cell_type": "code",
   "execution_count": 5,
   "id": "1ea00a90",
   "metadata": {},
   "outputs": [
    {
     "name": "stdout",
     "output_type": "stream",
     "text": [
      "Remaining balance:  31.38\n"
     ]
    }
   ],
   "source": [
    "# Test Case 1:\n",
    "balance = 42\n",
    "annualInterestRate = 0.2\n",
    "monthlyPaymentRate = 0.04\n",
    "\n",
    "monthlyInterestRate = annualInterestRate / 12\n",
    "currentBalance = balance\n",
    "\n",
    "for month in range(1,13):\n",
    "    minimumMonthlyPayment = monthlyPaymentRate * currentBalance\n",
    "    monthlyUnpaidBalance = currentBalance - minimumMonthlyPayment\n",
    "    updatedBalance = monthlyUnpaidBalance + monthlyInterestRate * monthlyUnpaidBalance\n",
    "\n",
    "    currentBalance = updatedBalance\n",
    "    #print('Month ', month, ' Remaining balance: ', round(currentBalance, 2))\n",
    "print('Remaining balance: ', round(currentBalance, 2))"
   ]
  },
  {
   "cell_type": "code",
   "execution_count": 2,
   "id": "5cf7b70a",
   "metadata": {},
   "outputs": [
    {
     "name": "stdout",
     "output_type": "stream",
     "text": [
      "Lowest Payment:  290\n"
     ]
    }
   ],
   "source": [
    "# Test Case 1:\n",
    "balance = 3405\n",
    "annualInterestRate = 0.04\n",
    "\n",
    "monthlyInterestRate = annualInterestRate / 12.0\n",
    "minimumFixedMonthlyPaymentResult = 0.0\n",
    "\n",
    "maxBalance = balance + balance * annualInterestRate\n",
    "for i in range(int(maxBalance)//10):\n",
    "    minimumFixedMonthlyPayment = (i+1) * 10\n",
    "    currentBalance = balance\n",
    "    for month in range(1,13):\n",
    "        monthlyUnpaidBalance = currentBalance - minimumFixedMonthlyPayment\n",
    "        updatedBalance = monthlyUnpaidBalance + monthlyInterestRate * monthlyUnpaidBalance\n",
    "        currentBalance = updatedBalance\n",
    "    #print(currentBalance, maxBalance, minimumFixedMonthlyPayment, i)\n",
    "    if currentBalance <=0:\n",
    "        minimumFixedMonthlyPaymentResult = minimumFixedMonthlyPayment\n",
    "        break\n",
    "print('Lowest Payment: ', minimumFixedMonthlyPaymentResult)\n",
    "    "
   ]
  },
  {
   "cell_type": "code",
   "execution_count": 5,
   "id": "24017a14",
   "metadata": {},
   "outputs": [
    {
     "name": "stdout",
     "output_type": "stream",
     "text": [
      "26666.666666666668 32517.095597472842\n",
      "26666.666666666668 29591.881132069757\n",
      "28129.273899368214 29591.881132069757\n",
      "28860.577515718986 29591.881132069757\n",
      "28860.577515718986 29226.22932389437\n",
      "29043.40341980668 29226.22932389437\n",
      "29134.816371850524 29226.22932389437\n",
      "29134.816371850524 29180.522847872446\n",
      "29134.816371850524 29157.669609861485\n",
      "29146.242990856004 29157.669609861485\n",
      "29151.956300358746 29157.669609861485\n",
      "29154.812955110116 29157.669609861485\n",
      "29156.2412824858 29157.669609861485\n",
      "29156.95544617364 29157.669609861485\n",
      "29156.95544617364 29157.312528017563\n",
      "29156.95544617364 29157.1339870956\n",
      "29157.04471663462 29157.1339870956\n",
      "29157.08935186511 29157.1339870956\n",
      "29157.08935186511 29157.111669480357\n",
      "29157.08935186511 29157.10051067273\n",
      "29157.08935186511 29157.09493126892\n",
      "Lowest Payment:  29157.09\n"
     ]
    }
   ],
   "source": [
    "# Test Case 1:\n",
    "balance = 320000\n",
    "annualInterestRate = 0.2\n",
    "\n",
    "# Result Your Code Should Generate:\n",
    "# -------------------\n",
    "# Lowest Payment: 29157.09\n",
    "\n",
    "monthlyInterestRate = annualInterestRate / 12.0\n",
    "\n",
    "monthlyInterestRate = annualInterestRate / 12.0\n",
    "monthlyPaymentLowerBound = balance / 12\n",
    "monthlyPaymentUpperBound = (balance * (1 + monthlyInterestRate)**12) / 12.0\n",
    "\n",
    "def findPayment(lower, upper):\n",
    "    currentBalance = balance\n",
    "    #print(lower, upper)\n",
    "    minimumFixedMonthlyPayment = (upper - lower) / 2 + lower\n",
    "    if upper == lower:\n",
    "        return lower\n",
    "    for month in range(1,13):\n",
    "        monthlyUnpaidBalance = currentBalance - minimumFixedMonthlyPayment\n",
    "        updatedBalance = monthlyUnpaidBalance + monthlyInterestRate * monthlyUnpaidBalance\n",
    "        currentBalance = updatedBalance\n",
    "    if currentBalance <=0:\n",
    "        if (upper - lower) <= 0.01:\n",
    "            return minimumFixedMonthlyPayment\n",
    "        return findPayment(lower, minimumFixedMonthlyPayment)\n",
    "    else:\n",
    "        return findPayment(minimumFixedMonthlyPayment, upper)\n",
    "payment = findPayment(monthlyPaymentLowerBound, monthlyPaymentUpperBound)\n",
    "print('Lowest Payment: ', round(payment, 2))"
   ]
  },
  {
   "cell_type": "markdown",
   "id": "f586ebaa",
   "metadata": {},
   "source": []
  }
 ],
 "metadata": {
  "kernelspec": {
   "display_name": "Python 3",
   "language": "python",
   "name": "python3"
  },
  "language_info": {
   "codemirror_mode": {
    "name": "ipython",
    "version": 3
   },
   "file_extension": ".py",
   "mimetype": "text/x-python",
   "name": "python",
   "nbconvert_exporter": "python",
   "pygments_lexer": "ipython3",
   "version": "3.8.8"
  }
 },
 "nbformat": 4,
 "nbformat_minor": 5
}
